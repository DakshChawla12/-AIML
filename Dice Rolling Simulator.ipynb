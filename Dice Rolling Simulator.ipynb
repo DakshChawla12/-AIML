{
 "cells": [
  {
   "cell_type": "code",
   "execution_count": 1,
   "id": "7aa44b18",
   "metadata": {},
   "outputs": [
    {
     "name": "stdout",
     "output_type": "stream",
     "text": [
      "Enter the number of dice: 1\n",
      "Enter the number of sides on each die: 6\n",
      "Rolling 1 dice with 6 sides each:\n",
      "Die 1: 4\n"
     ]
    }
   ],
   "source": [
    "import random  # Importing the random module to generate random numbers\n",
    "\n",
    "def roll_dice(num_dice, num_sides):\n",
    "    \"\"\"\n",
    "    Simulates rolling multiple dice with a specified number of sides each.\n",
    "\n",
    "    Args:\n",
    "        num_dice (int): The number of dice to roll.\n",
    "        num_sides (int): The number of sides on each die.\n",
    "\n",
    "    Returns:\n",
    "        None\n",
    "    \"\"\"\n",
    "    print(f\"Rolling {num_dice} dice with {num_sides} sides each:\")  # Printing a message indicating the dice rolling setup\n",
    "    for i in range(num_dice):  # Looping through each die to roll\n",
    "        result = random.randint(1, num_sides)  # Generating a random number for each die roll\n",
    "        print(f\"Die {i+1}: {result}\")  # Printing the result of each die roll\n",
    "\n",
    "if __name__ == \"__main__\":\n",
    "    # Getting user input for the number of dice and the number of sides on each die\n",
    "    num_dice = int(input(\"Enter the number of dice: \"))\n",
    "    num_sides = int(input(\"Enter the number of sides on each die: \"))\n",
    "    \n",
    "    # Calling the roll_dice function with user-provided inputs\n",
    "    roll_dice(num_dice, num_sides)\n"
   ]
  },
  {
   "cell_type": "code",
   "execution_count": null,
   "id": "2a97e96b",
   "metadata": {},
   "outputs": [],
   "source": []
  }
 ],
 "metadata": {
  "kernelspec": {
   "display_name": "Python 3 (ipykernel)",
   "language": "python",
   "name": "python3"
  },
  "language_info": {
   "codemirror_mode": {
    "name": "ipython",
    "version": 3
   },
   "file_extension": ".py",
   "mimetype": "text/x-python",
   "name": "python",
   "nbconvert_exporter": "python",
   "pygments_lexer": "ipython3",
   "version": "3.11.5"
  }
 },
 "nbformat": 4,
 "nbformat_minor": 5
}
